{
 "cells": [
  {
   "cell_type": "markdown",
   "id": "08771cc9-cf90-4f6b-a23c-73938b72ed8f",
   "metadata": {},
   "source": [
    "Q1, Create a vehicle class with an init method having instance variables as name_of_vehicle, max_speed\n",
    "and average_of_vehicle."
   ]
  },
  {
   "cell_type": "code",
   "execution_count": 3,
   "id": "2eabcb9a-f9b9-4856-805e-28d148326170",
   "metadata": {},
   "outputs": [
    {
     "name": "stdin",
     "output_type": "stream",
     "text": [
      "Name of Vehicle  ::   ford\n",
      "Enter max Speed  ::   150\n",
      "Enter average vehicle  ::   5.6\n"
     ]
    },
    {
     "name": "stdout",
     "output_type": "stream",
     "text": [
      "Name of Vehicle ford, It has 150 max speed and average of vehicle is 5.6 \n"
     ]
    }
   ],
   "source": [
    "class vehicle:\n",
    "    \n",
    "    def __init__(self, name_of_vehicle, max_speed, average_of_vehicle):\n",
    "        self.name_of_vehicle = name_of_vehicle\n",
    "        self.max_speed = max_speed\n",
    "        self.average_of_vehicle = average_of_vehicle\n",
    "    \n",
    "    def show_detail(self):\n",
    "        print(f'Name of Vehicle {self.name_of_vehicle}, It has {self.max_speed} max speed and average of vehicle is {self.average_of_vehicle} ')\n",
    "\n",
    "name = input('Name of Vehicle  ::  ')\n",
    "max_speed = int(input('Enter max Speed  ::  '))\n",
    "avg_veh = float(input('Enter average vehicle  ::  '))\n",
    "\n",
    "veh = vehicle(name,max_speed,avg_veh)\n",
    "\n",
    "veh.show_detail()"
   ]
  },
  {
   "cell_type": "markdown",
   "id": "81ed3512-1a04-4915-998d-9fa036bf136c",
   "metadata": {},
   "source": [
    "Q2.  Create a child class car from the vehicle class created in Que 1, which will inherit the vehicle class.\n",
    "Create a method named seating_capacity which takes capacity as an argument and returns the name of\n",
    "the vehicle and its seating capacity."
   ]
  },
  {
   "cell_type": "code",
   "execution_count": 22,
   "id": "a4842fbc-42e8-4703-95d3-0e4a3ed7462e",
   "metadata": {},
   "outputs": [
    {
     "name": "stdin",
     "output_type": "stream",
     "text": [
      "Name of Vehicle  ::   Honda Civic\n",
      "Enter max Speed  ::   250\n",
      "Enter average vehicle  ::   35.6\n",
      "Enter the Seating Capacity of the car   ::   5\n"
     ]
    },
    {
     "name": "stdout",
     "output_type": "stream",
     "text": [
      "Name of the vehicle is Honda Civic  and its seating capacity is 5\n"
     ]
    }
   ],
   "source": [
    "class vehicle:\n",
    "    \n",
    "    def __init__(self, name_of_vehicle, max_speed, average_of_vehicle):\n",
    "        self.name_of_vehicle = name_of_vehicle\n",
    "        self.max_speed = max_speed\n",
    "        self.average_of_vehicle = average_of_vehicle\n",
    "    \n",
    "    def show_detail(self):\n",
    "        print(f'Name of Vehicle {self.name_of_vehicle}, It has {self.max_speed} max speed and average of vehicle is {self.average_of_vehicle} ')\n",
    "    def show_car_name(self):\n",
    "        return self.name_of_vehicle\n",
    "\n",
    "class car(vehicle):\n",
    "    def __init__(self,name_of_vehicle,max_speed,average_of_vehicle,capacity):\n",
    "        self.capacity = capacity\n",
    "        vehicle.__init__(self, name_of_vehicle,max_speed, average_of_vehicle)\n",
    "        \n",
    "    \n",
    "    def seating_capacity(self):\n",
    "        return print(f'Name of the vehicle is {self.name_of_vehicle}  and its seating capacity is {self.capacity}')\n",
    "\n",
    "name = input('Name of Vehicle  ::  ')\n",
    "max_speed = int(input('Enter max Speed  ::  '))\n",
    "avg_veh = float(input('Enter average vehicle  ::  '))\n",
    "seat = int(input('Enter the Seating Capacity of the car   ::  '))\n",
    "\n",
    "#veh = vehicle(name,max_speed,avg_veh)\n",
    "seat_capacity = car(name,max_speed,avg_veh,seat)\n",
    "\n",
    "seat_capacity.seating_capacity()"
   ]
  },
  {
   "cell_type": "markdown",
   "id": "d99ac932-972d-454d-b74e-4118816e799f",
   "metadata": {},
   "source": [
    "Q3. What is multiple inheritance? Write a python code to demonstrate multiple inheritance"
   ]
  },
  {
   "cell_type": "raw",
   "id": "c3646fa9-6cb4-4678-95d8-22f9483a03c3",
   "metadata": {},
   "source": [
    "Multiple inheritance:- When a Class can be derived from more than one base class this type of inheritance is known as multiple inheritance"
   ]
  },
  {
   "cell_type": "code",
   "execution_count": 23,
   "id": "08817be5-2bd0-4d4d-805f-2c1af0bc50a7",
   "metadata": {},
   "outputs": [
    {
     "name": "stdout",
     "output_type": "stream",
     "text": [
      "Child inherit father behavior\n",
      "Child inherit mother honest personality\n"
     ]
    }
   ],
   "source": [
    "class father:\n",
    "    def behavior(self):\n",
    "        print('Child inherit father behavior')\n",
    "class mother:\n",
    "    def honest(self):\n",
    "        print('Child inherit mother honest personality')\n",
    "class child(father,mother):\n",
    "    pass\n",
    "\n",
    "obj = child()\n",
    "obj.behavior()\n",
    "obj.honest()\n",
    "        "
   ]
  },
  {
   "cell_type": "markdown",
   "id": "fca365cd-7852-473a-a5fd-a6f166bafa94",
   "metadata": {},
   "source": [
    "Q4. What are getter and setter in python? Create a class and create a getter and a setter method in this\n",
    "class."
   ]
  },
  {
   "cell_type": "raw",
   "id": "769512c4-609a-4cac-8197-85531c3baa17",
   "metadata": {},
   "source": [
    "To avoid direct access of class field i.e. private variable can not be accessed directly or modifying by other public user "
   ]
  },
  {
   "cell_type": "code",
   "execution_count": 26,
   "id": "63f82ab7-5f40-4923-bc74-0c4350a13868",
   "metadata": {},
   "outputs": [
    {
     "data": {
      "text/plain": [
       "'Name of Student is Saurabh and Age is 25'"
      ]
     },
     "execution_count": 26,
     "metadata": {},
     "output_type": "execute_result"
    }
   ],
   "source": [
    "class Student_detail:\n",
    "    \n",
    "    def __init__(self,Name, Age):\n",
    "        self._name = Name\n",
    "        self._age = Age\n",
    "    \n",
    "    def get_details(self):\n",
    "        return f'Name of Student is {self._name} and Age is {self._age}'\n",
    "    \n",
    "    def set_age(self, age):\n",
    "        self._age = age\n",
    "\n",
    "\n",
    "student = Student_detail('Saurabh', 23)\n",
    "# Set Age\n",
    "student.set_age(25)\n",
    "student.get_details()"
   ]
  },
  {
   "cell_type": "markdown",
   "id": "f6341c84-72f5-4ee9-869f-2beaec23a1cb",
   "metadata": {},
   "source": [
    "Q5.What is method overriding in python? Write a python code to demonstrate method overriding."
   ]
  },
  {
   "cell_type": "raw",
   "id": "e7b3db91-dfbb-4bbf-a072-ec044c7b8d0e",
   "metadata": {},
   "source": [
    "Method overriding is feature of Object oriented Programing where child class can provide the program with specific implementation process of data provided that already defined in the parent class"
   ]
  },
  {
   "cell_type": "code",
   "execution_count": 30,
   "id": "782f3204-eef0-40db-9cf4-ff351bb35906",
   "metadata": {},
   "outputs": [
    {
     "name": "stdout",
     "output_type": "stream",
     "text": [
      "909\n",
      "saurabh mishradata science\n"
     ]
    }
   ],
   "source": [
    "class parent:\n",
    "    def __init__(self,a,b):\n",
    "        self.a = a\n",
    "        self.b = b\n",
    "    def add_data(self):\n",
    "        return print(self.a+self.b)\n",
    "class child(parent):\n",
    "    def __init__(self,a,b,c):\n",
    "        self.a = a\n",
    "        self.b = b\n",
    "        self.c = c\n",
    "    \n",
    "    def add_data(self):\n",
    "        return print(self.a+self.b+self.c)\n",
    "\n",
    "    \n",
    "obj = parent(256,653)\n",
    "obj1 = child('saurabh ', 'mishra','data science')\n",
    "\n",
    "obj.add_data()\n",
    "obj1.add_data()"
   ]
  },
  {
   "cell_type": "code",
   "execution_count": null,
   "id": "43cfa49e-6f3e-4162-a6b6-19170284e88c",
   "metadata": {},
   "outputs": [],
   "source": []
  }
 ],
 "metadata": {
  "kernelspec": {
   "display_name": "Python 3 (ipykernel)",
   "language": "python",
   "name": "python3"
  },
  "language_info": {
   "codemirror_mode": {
    "name": "ipython",
    "version": 3
   },
   "file_extension": ".py",
   "mimetype": "text/x-python",
   "name": "python",
   "nbconvert_exporter": "python",
   "pygments_lexer": "ipython3",
   "version": "3.10.8"
  },
  "toc-autonumbering": false
 },
 "nbformat": 4,
 "nbformat_minor": 5
}
