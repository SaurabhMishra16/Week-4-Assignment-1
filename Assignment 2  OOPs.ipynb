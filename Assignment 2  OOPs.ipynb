{
 "cells": [
  {
   "cell_type": "markdown",
   "id": "ebc83b00-2a46-4baf-83b6-20e48c725ce7",
   "metadata": {},
   "source": [
    "Q1. What is Abstraction in OOps? Explain with an example."
   ]
  },
  {
   "cell_type": "markdown",
   "id": "62f2fe82-4005-4f29-ac03-ebd9531a687b",
   "metadata": {},
   "source": [
    "A process of handling complexity by hinding unnecessary infromation from the user and show that information which is necessary for user. Abstraction in OOPs is useful for creating skeleton or outline of the class"
   ]
  },
  {
   "cell_type": "code",
   "execution_count": 24,
   "id": "bc8eca34-59cb-49ab-95c0-fc11480b2ae5",
   "metadata": {},
   "outputs": [
    {
     "name": "stdout",
     "output_type": "stream",
     "text": [
      "221221212121\n",
      "Student name is Saurabh \n",
      "350\n"
     ]
    }
   ],
   "source": [
    "import abc\n",
    "\n",
    "class school:\n",
    "    \n",
    "    @abc.abstractmethod\n",
    "    def student_name(self):\n",
    "        pass\n",
    "    \n",
    "    @abc.abstractmethod\n",
    "    def student_mobile(self):\n",
    "        pass\n",
    "    \n",
    "    @abc.abstractmethod\n",
    "    def student_marks(self):\n",
    "        pass\n",
    "\n",
    "class student_detail(school):\n",
    "    def student_name(self):\n",
    "        print('Student name is Saurabh ')\n",
    "    \n",
    "    def student_mobile(self):\n",
    "        print(221221212121)\n",
    "\n",
    "class student_marks(school):\n",
    "    def student_marks(self):\n",
    "        print(350)\n",
    "\n",
    "obj1 = student_detail()\n",
    "obj2 = student_marks()\n",
    "\n",
    "obj1.student_mobile()\n",
    "obj1.student_name()\n",
    "obj2.student_marks()"
   ]
  },
  {
   "cell_type": "markdown",
   "id": "1681b7bf-5348-4720-a835-41e379747b6d",
   "metadata": {},
   "source": [
    "Q2. Differentiate between Abstraction and Encapsulation. Explain with an example"
   ]
  },
  {
   "cell_type": "markdown",
   "id": "71b21244-8461-4e6f-9011-7a593253d75d",
   "metadata": {},
   "source": [
    "Abstraction is hinding the detail and implementation of the code. Encapsulation is hinding the data and controlling the visiabilty of code"
   ]
  },
  {
   "cell_type": "code",
   "execution_count": 10,
   "id": "6c55bc87-3f12-4032-945a-a12b935b41fb",
   "metadata": {},
   "outputs": [
    {
     "name": "stdout",
     "output_type": "stream",
     "text": [
      "221221212121\n",
      "Student name is Saurabh \n",
      "350\n"
     ]
    }
   ],
   "source": [
    "# Abstraction \n",
    "import abc\n",
    "\n",
    "class school:\n",
    "    \n",
    "    @abc.abstractmethod\n",
    "    def student_name(self):\n",
    "        pass\n",
    "    \n",
    "    @abc.abstractmethod\n",
    "    def student_mobile(self):\n",
    "        pass\n",
    "    \n",
    "    @abc.abstractmethod\n",
    "    def student_marks(self):\n",
    "        pass\n",
    "\n",
    "class student_detail(school):\n",
    "    def student_name(self):\n",
    "        print('Student name is Saurabh ')\n",
    "    \n",
    "    def student_mobile(self):\n",
    "        print(221221212121)\n",
    "\n",
    "class student_marks(school):\n",
    "    def student_marks(self):\n",
    "        print(350)\n",
    "\n",
    "obj1 = student_detail()\n",
    "obj2 = student_marks()\n",
    "\n",
    "obj1.student_mobile()\n",
    "obj1.student_name()\n",
    "obj2.student_marks()"
   ]
  },
  {
   "cell_type": "code",
   "execution_count": 12,
   "id": "cceb8459-3e31-4f88-bce6-0e4d3c01851f",
   "metadata": {},
   "outputs": [],
   "source": [
    "class mobile_shop:\n",
    "    \n",
    "    def __init__(self,model,price,charger_type,headphone):\n",
    "        self.__model = model   # By the help of '__' variable become private  \n",
    "        self.__price = price\n",
    "        self.__charger_type = charger_type\n",
    "        self.__headphone = False\n",
    "        \n",
    "    def set_price(self,price):\n",
    "        if price >= 5000:\n",
    "            self.__price = price\n",
    "        else:\n",
    "            print('Enter Price more than 4999')\n",
    "    def set_charger_type(self,type):\n",
    "        self.__charger_type = type\n",
    "        \n",
    "    def set_headphone(self,avail):\n",
    "        self.__headphone = avail\n",
    "    \n",
    "    def show_phone_detail(self):\n",
    "        print(f'Phone : {self.__model}, Price : {self.__price}, Charger Type : {self.__charger_type}, Is head phone available? : {self.__headphone} ')\n",
    "        \n",
    "\n",
    "mob_shop = mobile_shop('Oneplus','32000','type c', False)"
   ]
  },
  {
   "cell_type": "code",
   "execution_count": 17,
   "id": "911adcf2-5a71-4f28-b16a-6cb3c40c2f8c",
   "metadata": {},
   "outputs": [
    {
     "name": "stdout",
     "output_type": "stream",
     "text": [
      "Phone : Oneplus, Price : 55000, Charger Type : type B, Is head phone available? : True \n"
     ]
    }
   ],
   "source": [
    "mob_shop.show_phone_detail()"
   ]
  },
  {
   "cell_type": "code",
   "execution_count": 13,
   "id": "bfd843e3-3bd5-499c-adb5-81842122cd2d",
   "metadata": {},
   "outputs": [],
   "source": [
    "mob_shop.set_price(55000)"
   ]
  },
  {
   "cell_type": "code",
   "execution_count": 14,
   "id": "44863b34-a643-40e6-a3dc-a6c2b6b4344f",
   "metadata": {},
   "outputs": [],
   "source": [
    "mob_shop.set_charger_type('type B')"
   ]
  },
  {
   "cell_type": "code",
   "execution_count": 15,
   "id": "3415c28f-9bcf-45d5-a784-b19748b511df",
   "metadata": {},
   "outputs": [],
   "source": [
    "mob_shop.set_headphone(True)"
   ]
  },
  {
   "cell_type": "code",
   "execution_count": 16,
   "id": "b6350ffd-eac2-4ed0-a0ec-0fef92e43a1e",
   "metadata": {},
   "outputs": [
    {
     "name": "stdout",
     "output_type": "stream",
     "text": [
      "Phone : Oneplus, Price : 55000, Charger Type : type B, Is head phone available? : True \n"
     ]
    }
   ],
   "source": [
    "mob_shop.show_phone_detail()"
   ]
  },
  {
   "cell_type": "markdown",
   "id": "202a874a-e01e-464c-8d31-827e906d7d2b",
   "metadata": {},
   "source": [
    "Q3. What is abc module in python? Why is it used?"
   ]
  },
  {
   "cell_type": "markdown",
   "id": "4b445f54-e2e1-4321-995e-d1fc649d461d",
   "metadata": {},
   "source": [
    "abc stands for 'Abstract Base classes'. it is a python library which is used for making any normal method to abstract method. The abc module in python library provides the infrastructure for define custom base class as abstract.\n",
    "It is used for making an outline or skeleton of a class \n"
   ]
  },
  {
   "cell_type": "markdown",
   "id": "eb180e28-5cf5-4c92-bcb8-d16b1cffb152",
   "metadata": {},
   "source": [
    "Q4. How can we achieve data abstraction?"
   ]
  },
  {
   "cell_type": "markdown",
   "id": "dc22e22e-0c34-4cb1-96ce-2e390887a657",
   "metadata": {},
   "source": [
    "By the help of class we can achieve data abstraction because A class is used to group of all data members and member functions into a single unit by using access specifiers"
   ]
  },
  {
   "cell_type": "markdown",
   "id": "714b91dd-1be2-4462-9b44-2f7f0097bd80",
   "metadata": {},
   "source": [
    "Q5. Can we create an instance of an abstract class? Explain your answer."
   ]
  },
  {
   "cell_type": "markdown",
   "id": "a6a7e69d-acf3-4dcb-b993-dc54b213096a",
   "metadata": {},
   "source": [
    "No, we cannot create an instance of an abract class because abstract class is not complete,as they have some method that are not defined"
   ]
  },
  {
   "cell_type": "code",
   "execution_count": 23,
   "id": "023e4087-f0b9-4a65-a3b6-fc06a12d420d",
   "metadata": {},
   "outputs": [],
   "source": []
  },
  {
   "cell_type": "code",
   "execution_count": null,
   "id": "3befb58d-0156-4136-b529-4e142f8210cf",
   "metadata": {},
   "outputs": [],
   "source": []
  }
 ],
 "metadata": {
  "kernelspec": {
   "display_name": "Python 3 (ipykernel)",
   "language": "python",
   "name": "python3"
  },
  "language_info": {
   "codemirror_mode": {
    "name": "ipython",
    "version": 3
   },
   "file_extension": ".py",
   "mimetype": "text/x-python",
   "name": "python",
   "nbconvert_exporter": "python",
   "pygments_lexer": "ipython3",
   "version": "3.10.8"
  }
 },
 "nbformat": 4,
 "nbformat_minor": 5
}
