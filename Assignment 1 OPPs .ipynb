{
 "cells": [
  {
   "cell_type": "markdown",
   "id": "6ef8c106-59ea-4f73-960e-119a0ecb2b8c",
   "metadata": {},
   "source": [
    "Q1. Explain Class and Object with respect to Object-Oriented Programming. Give a suitable example."
   ]
  },
  {
   "cell_type": "markdown",
   "id": "7616ddec-8f3f-485d-b2f5-dbeb7896dfd0",
   "metadata": {},
   "source": [
    "Class:- Class is a user defined blueprint or prototype from which object are created.\n",
    "Object:- Objects are the instance of a particular class. "
   ]
  },
  {
   "cell_type": "code",
   "execution_count": 15,
   "id": "87e1efdc-a8a5-4b6b-aed0-f22718efec80",
   "metadata": {},
   "outputs": [
    {
     "name": "stdout",
     "output_type": "stream",
     "text": [
      "Student name is Saurabh and its course Data Science Masters\n"
     ]
    }
   ],
   "source": [
    "# class keyward Define Class and here the class is begin\n",
    "class student_detail:\n",
    "    def __init__(self,name,course):\n",
    "        self.__name = name\n",
    "        self.__course = course\n",
    "    \n",
    "    \n",
    "    def show_detail(self):\n",
    "        print(f'Student name is {self.__name} and its course {self.__course}')\n",
    "\n",
    "\n",
    "obj = student_detail('Saurabh', 'Data Science Masters')\n",
    "# Here obj is the object of class student_detail\n",
    "obj.show_detail()"
   ]
  },
  {
   "cell_type": "markdown",
   "id": "07760f4b-ce7e-4627-8c95-76cc7efb6faf",
   "metadata": {},
   "source": [
    "Q2. Name the four pillars of OOPs."
   ]
  },
  {
   "cell_type": "markdown",
   "id": "9afb3a6e-005b-49b1-ba04-7afcfa74cc3f",
   "metadata": {},
   "source": [
    "Four pillars of OOPs:\n",
    "1- Polymorphism\n",
    "2- Inheritance\n",
    "3- Abstraction\n",
    "4- Encapsulation"
   ]
  },
  {
   "cell_type": "markdown",
   "id": "d3a4c5b5-0701-4694-80c3-e6c65890276b",
   "metadata": {},
   "source": [
    "Q3. Explain why the __init__() function is used. Give a suitable example."
   ]
  },
  {
   "cell_type": "markdown",
   "id": "a9f81176-53c3-4b06-b28c-3ad4de92a20c",
   "metadata": {},
   "source": [
    "init() function is a counstructor. init() function is used for initialize the object attributes. In every time when object will create it initaizalize the object attributes every time."
   ]
  },
  {
   "cell_type": "code",
   "execution_count": 4,
   "id": "f264a55a-03a4-4f85-9c1f-b5ce55f9223b",
   "metadata": {},
   "outputs": [
    {
     "name": "stdout",
     "output_type": "stream",
     "text": [
      "Student name is Saurabh and its course Data Science Masters\n",
      "Student name is Abhishek and its course DSA\n"
     ]
    }
   ],
   "source": [
    "# class keyward Define Class and here the class is begin\n",
    "class student_detail:\n",
    "    # __init__() initialize the every object attributes\n",
    "    def __init__(self,name,course):\n",
    "        self.__name = name\n",
    "        self.__course = course\n",
    "    \n",
    "    \n",
    "    def show_detail(self):\n",
    "        print(f'Student name is {self.__name} and its course {self.__course}')\n",
    "\n",
    "\n",
    "obj1 = student_detail('Saurabh', 'Data Science Masters')\n",
    "obj2 = student_detail('Abhishek','DSA')\n",
    "# Here obj is the object of class student_detail\n",
    "obj1.show_detail()\n",
    "obj2.show_detail()"
   ]
  },
  {
   "cell_type": "markdown",
   "id": "5def1cb4-67ec-4f92-847f-612e17f91502",
   "metadata": {},
   "source": [
    "Q4. Why self is used in OOPs?"
   ]
  },
  {
   "cell_type": "raw",
   "id": "386caee5-109d-4773-9c75-1736543a3c78",
   "metadata": {},
   "source": [
    "self is used for represent instance of class. By the help of self we accessed variables, attributes and methods"
   ]
  },
  {
   "cell_type": "markdown",
   "id": "144f78a5-62f3-452c-9ba3-ab5bb8009d8c",
   "metadata": {},
   "source": [
    "Q5. What is inheritance? Give an example for each type of inheritance."
   ]
  },
  {
   "cell_type": "raw",
   "id": "aeaaaf38-5ecc-470b-9bee-c0ca77ca7a06",
   "metadata": {},
   "source": [
    "Inheritance is defined as a mechanism of inheriting of the base class to the child class.\n",
    "There are 5 types of Inheritance\n",
    "1- Single Inheritance\n",
    "2- Multiple Inheritance\n",
    "3- Multilevel Inheritance\n",
    "4- Hierarical Inheritance\n",
    "5- Hybrid Inheritance"
   ]
  },
  {
   "cell_type": "code",
   "execution_count": 7,
   "id": "40c02796-7c84-408d-bf01-f7a1ea79f050",
   "metadata": {},
   "outputs": [
    {
     "name": "stdout",
     "output_type": "stream",
     "text": [
      "This is parent class\n",
      "This is child class\n"
     ]
    }
   ],
   "source": [
    "# Single Inheritance\n",
    "# creating class\n",
    "class parent:\n",
    "    \n",
    "    def show_parent(self):\n",
    "        print('This is parent class')\n",
    "# Child class inherit parent class\n",
    "class child(parent):\n",
    "    def show_child(self):\n",
    "        print('This is child class')\n",
    "# creating child class object\n",
    "\n",
    "ch = child()\n",
    "ch.show_parent() # It is also access parent class method\n",
    "ch.show_child()"
   ]
  },
  {
   "cell_type": "code",
   "execution_count": 9,
   "id": "37113f94-78d5-4bc4-a18e-2d52c4533e96",
   "metadata": {},
   "outputs": [
    {
     "name": "stdout",
     "output_type": "stream",
     "text": [
      "This is Father Class\n",
      "This is Mother class\n",
      "This is child class\n"
     ]
    }
   ],
   "source": [
    "# Multiple Inheritance\n",
    "# creating class\n",
    "#creating father class\n",
    "class father_cls:\n",
    "    \n",
    "    def father(self):\n",
    "        print('This is Father Class')\n",
    "#creating mother class\n",
    "class mother_cls:\n",
    "    def mother(self):\n",
    "        print('This is Mother class')\n",
    "        \n",
    "# Child class inherit both father_cls and mother_cls  class\n",
    "class child(father_cls, mother_cls):\n",
    "    def show_child(self):\n",
    "        print('This is child class')\n",
    "\n",
    "# creating child class object\n",
    "\n",
    "ch = child()\n",
    "ch.father() # It is access father class method\n",
    "ch.mother() # It is access mother class method\n",
    "ch.show_child()  # It is access child class method"
   ]
  },
  {
   "cell_type": "code",
   "execution_count": 13,
   "id": "3aa6df11-603c-4dac-8ec1-7774d4c37223",
   "metadata": {},
   "outputs": [
    {
     "name": "stdout",
     "output_type": "stream",
     "text": [
      "Name of Student is  Saurabh and course name is Data Science and Fees is 3500\n"
     ]
    }
   ],
   "source": [
    "# multilevel Inheritance\n",
    "# creating class\n",
    "#Base Class\n",
    "class student:\n",
    "    def __init__(self,student_name):\n",
    "        self.student_name = student_name\n",
    "\n",
    "\n",
    "        #intermediate class\n",
    "class course(student):\n",
    "    def __init__(self, course_name, student_name):\n",
    "        self.course_name = course_name\n",
    "        student.__init__(self,student_name)\n",
    "        \n",
    "        \n",
    "# Derived Class\n",
    "class course_fees(course):\n",
    "    def __init__(self, course_fees, course_name,student_name):\n",
    "        self.course_fees= course_fees\n",
    "        course.__init__(self,course_name,student_name)\n",
    "    \n",
    "    def print_detail(self):\n",
    "        print(f'Name of Student is  {self.student_name} and course name is {self.course_name} and Fees is {self.course_fees}')\n",
    "\n",
    "obj = course_fees(3500,'Data Science','Saurabh')\n",
    "obj.print_detail()"
   ]
  },
  {
   "cell_type": "code",
   "execution_count": 15,
   "id": "0d7a23bd-0f23-4cd3-be88-b7d0ee8394b7",
   "metadata": {},
   "outputs": [
    {
     "name": "stdout",
     "output_type": "stream",
     "text": [
      "This is Father Class\n",
      "This is Child 1 class\n",
      "This is Father Class\n",
      "This is child 2 class\n"
     ]
    }
   ],
   "source": [
    "# Hierarical Inheritance\n",
    "# creating class\n",
    "#creating father class\n",
    "class father_cls:\n",
    "    \n",
    "    def father(self):\n",
    "        print('This is Father Class')\n",
    "\n",
    "#creating firs child class\n",
    "class child1(father_cls):\n",
    "    def child1(self):\n",
    "        print('This is Child 1 class')\n",
    "        \n",
    "# Child class inherit both father_cls and mother_cls  class\n",
    "class child2(father_cls):\n",
    "    def child2(self):\n",
    "        print('This is child 2 class')\n",
    "\n",
    "# creating child class object\n",
    "\n",
    "ch1 = child1()\n",
    "ch2 = child2()\n",
    "\n",
    "ch1.father()\n",
    "ch1.child1()\n",
    "\n",
    "ch2.father()\n",
    "ch2.child2()"
   ]
  },
  {
   "cell_type": "code",
   "execution_count": 14,
   "id": "211fa205-44e0-42fa-99b9-cff7536a8eb1",
   "metadata": {},
   "outputs": [
    {
     "name": "stdout",
     "output_type": "stream",
     "text": [
      "This is child  class\n",
      "This is Father class\n"
     ]
    }
   ],
   "source": [
    "# Hybrid Inheritance\n",
    "# creating class\n",
    "class grandfather_cls:\n",
    "    def grandfather(self):\n",
    "        print('This is Grand Father Class')\n",
    "\n",
    "\n",
    "class father_cls(grandfather_cls):\n",
    "    def father(self):\n",
    "        print('This is Father class')\n",
    "        \n",
    "class mother_cls(grandfather_cls):\n",
    "    def mother(self):\n",
    "        print('This is Mother class')\n",
    "        \n",
    "\n",
    "class child(father_cls,grandfather_cls):\n",
    "    def child(self):\n",
    "        print('This is child  class')\n",
    "\n",
    "# creating child class object\n",
    "\n",
    "obj = child()\n",
    "obj.child()\n",
    "obj.father()"
   ]
  },
  {
   "cell_type": "code",
   "execution_count": null,
   "id": "6d04ecdc-0a88-4724-806a-c86de25e8d1a",
   "metadata": {},
   "outputs": [],
   "source": []
  },
  {
   "cell_type": "code",
   "execution_count": null,
   "id": "c3defea9-a603-42d6-ad3b-f0594c6dfe7b",
   "metadata": {},
   "outputs": [],
   "source": []
  }
 ],
 "metadata": {
  "kernelspec": {
   "display_name": "Python 3 (ipykernel)",
   "language": "python",
   "name": "python3"
  },
  "language_info": {
   "codemirror_mode": {
    "name": "ipython",
    "version": 3
   },
   "file_extension": ".py",
   "mimetype": "text/x-python",
   "name": "python",
   "nbconvert_exporter": "python",
   "pygments_lexer": "ipython3",
   "version": "3.10.8"
  }
 },
 "nbformat": 4,
 "nbformat_minor": 5
}
